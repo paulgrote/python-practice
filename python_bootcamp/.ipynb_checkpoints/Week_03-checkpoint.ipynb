{
 "cells": [
  {
   "cell_type": "markdown",
   "metadata": {},
   "source": [
    "# User Input and Type Converting"
   ]
  },
  {
   "cell_type": "code",
   "execution_count": 1,
   "metadata": {},
   "outputs": [
    {
     "name": "stdout",
     "output_type": "stream",
     "text": [
      "What is your name? Paul\n",
      "Paul\n"
     ]
    }
   ],
   "source": [
    "# accepting and outputting user input\n",
    "print(input(\"What is your name? \"))"
   ]
  },
  {
   "cell_type": "code",
   "execution_count": 2,
   "metadata": {},
   "outputs": [
    {
     "name": "stdout",
     "output_type": "stream",
     "text": [
      "What is your name? Paul\n",
      "Hello Paul!\n"
     ]
    }
   ],
   "source": [
    "# saving what the user inputs\n",
    "ans = input(\"What is your name? \")\n",
    "print(\"Hello {}!\".format(ans))"
   ]
  },
  {
   "cell_type": "code",
   "execution_count": 3,
   "metadata": {},
   "outputs": [
    {
     "name": "stdout",
     "output_type": "stream",
     "text": [
      "<class 'int'>\n"
     ]
    }
   ],
   "source": [
    "# how to check the data type of a variable\n",
    "num = 5\n",
    "print(type(num))"
   ]
  },
  {
   "cell_type": "code",
   "execution_count": 4,
   "metadata": {},
   "outputs": [
    {
     "name": "stdout",
     "output_type": "stream",
     "text": [
      "<class 'int'>\n"
     ]
    }
   ],
   "source": [
    "# converting a variable from one data type to another\n",
    "num = \"9\"\n",
    "num = int(num) # re-declaring num to store an integer\n",
    "print( type(num)) # checking type to make sure conversion worked"
   ]
  },
  {
   "cell_type": "code",
   "execution_count": 5,
   "metadata": {},
   "outputs": [
    {
     "name": "stdout",
     "output_type": "stream",
     "text": [
      "Type a number to add: 74\n",
      "<class 'str'>\n",
      "100 + 74 = 174\n"
     ]
    }
   ],
   "source": [
    "# working with user input to perform calculations\n",
    "ans = input(\"Type a number to add: \")\n",
    "print(type(ans)) # default type is string, must convert\n",
    "result = 100 + int(ans)\n",
    "print(\"100 + {} = {}\".format(ans, result))"
   ]
  },
  {
   "cell_type": "code",
   "execution_count": 9,
   "metadata": {},
   "outputs": [
    {
     "name": "stdout",
     "output_type": "stream",
     "text": [
      "Type a number to add: 74.3\n",
      "100 + 74.3 = 174.3\n",
      "The program did not break!\n"
     ]
    }
   ],
   "source": [
    "# using the try and except blocks\n",
    "try:\n",
    "    ans = float(input(\"Type a number to add: \"))\n",
    "    print(\"100 + {} = {}\".format(ans,100+ans))\n",
    "except:\n",
    "    print(\"You did not put in a valid number!\")\n",
    "# without try/except print statement would not get hit if error occurs\n",
    "print(\"The program did not break!\")"
   ]
  },
  {
   "cell_type": "code",
   "execution_count": 12,
   "metadata": {},
   "outputs": [
    {
     "name": "stdout",
     "output_type": "stream",
     "text": [
      "<class 'str'>\n",
      "<class 'bool'>\n"
     ]
    }
   ],
   "source": [
    "# convert string to Boolean\n",
    "my_value = \"True\"\n",
    "print(type(my_value))\n",
    "my_value = bool(my_value)\n",
    "print(type(my_value))"
   ]
  },
  {
   "cell_type": "code",
   "execution_count": 15,
   "metadata": {},
   "outputs": [
    {
     "name": "stdout",
     "output_type": "stream",
     "text": [
      "Give me a number: 7234\n",
      "Give me another number: 08934\n",
      "7234.0 + 8934.0 = 16168.0\n"
     ]
    }
   ],
   "source": [
    "# get two numbers from user, print the sum\n",
    "try:\n",
    "    num1 = float(input(\"Give me a number: \"))\n",
    "    num2 = float(input(\"Give me another number: \"))\n",
    "    answer = num1 + num2\n",
    "    print(\"{} + {} = {}\".format(num1, num2, answer))\n",
    "except:\n",
    "    print(\"You did not enter a number!\")"
   ]
  },
  {
   "cell_type": "code",
   "execution_count": 17,
   "metadata": {},
   "outputs": [
    {
     "name": "stdout",
     "output_type": "stream",
     "text": [
      "What year was your car made? 2017\n",
      "What company made your car? VW\n",
      "What is your car's model? Golf\n",
      "What color is your car? Grey\n",
      "Your car: Grey 2017 VW Golf\n"
     ]
    }
   ],
   "source": [
    "# get year, make, model, color of user's car and print a statement with that info\n",
    "car_year = input(\"What year was your car made? \")\n",
    "car_make = input(\"What company made your car? \")\n",
    "car_model = input(\"What is your car's model? \")    \n",
    "car_color = input(\"What color is your car? \")\n",
    "print(\"Your car: {} {} {} {}\".format(car_color, car_year, car_make, car_model))"
   ]
  },
  {
   "cell_type": "markdown",
   "metadata": {},
   "source": [
    "# If Statements"
   ]
  },
  {
   "cell_type": "code",
   "execution_count": 18,
   "metadata": {},
   "outputs": [
    {
     "name": "stdout",
     "output_type": "stream",
     "text": [
      "x is less than y\n"
     ]
    }
   ],
   "source": [
    "# using an if statement to run code only if the condition is met\n",
    "x, y = 5, 10\n",
    "if x < y:\n",
    "    print(\"x is less than y\")"
   ]
  },
  {
   "cell_type": "code",
   "execution_count": 21,
   "metadata": {},
   "outputs": [
    {
     "name": "stdout",
     "output_type": "stream",
     "text": [
      "What is 5 + 5? butt\n"
     ]
    },
    {
     "ename": "ValueError",
     "evalue": "invalid literal for int() with base 10: 'butt'",
     "output_type": "error",
     "traceback": [
      "\u001b[0;31m---------------------------------------------------------------------------\u001b[0m",
      "\u001b[0;31mValueError\u001b[0m                                Traceback (most recent call last)",
      "\u001b[0;32m<ipython-input-21-7139eb6f2e70>\u001b[0m in \u001b[0;36m<module>\u001b[0;34m\u001b[0m\n\u001b[1;32m      1\u001b[0m \u001b[0;31m# checking user input\u001b[0m\u001b[0;34m\u001b[0m\u001b[0;34m\u001b[0m\u001b[0;34m\u001b[0m\u001b[0m\n\u001b[0;32m----> 2\u001b[0;31m \u001b[0mans\u001b[0m \u001b[0;34m=\u001b[0m \u001b[0mint\u001b[0m\u001b[0;34m(\u001b[0m\u001b[0minput\u001b[0m\u001b[0;34m(\u001b[0m\u001b[0;34m\"What is 5 + 5? \"\u001b[0m\u001b[0;34m)\u001b[0m\u001b[0;34m)\u001b[0m\u001b[0;34m\u001b[0m\u001b[0;34m\u001b[0m\u001b[0m\n\u001b[0m\u001b[1;32m      3\u001b[0m \u001b[0;32mif\u001b[0m \u001b[0mans\u001b[0m \u001b[0;34m==\u001b[0m \u001b[0;36m10\u001b[0m\u001b[0;34m:\u001b[0m\u001b[0;34m\u001b[0m\u001b[0;34m\u001b[0m\u001b[0m\n\u001b[1;32m      4\u001b[0m     \u001b[0mprint\u001b[0m\u001b[0;34m(\u001b[0m\u001b[0;34m\"You got it right!\"\u001b[0m\u001b[0;34m)\u001b[0m\u001b[0;34m\u001b[0m\u001b[0;34m\u001b[0m\u001b[0m\n",
      "\u001b[0;31mValueError\u001b[0m: invalid literal for int() with base 10: 'butt'"
     ]
    }
   ],
   "source": [
    "# checking user input\n",
    "ans = int(input(\"What is 5 + 5? \"))\n",
    "if ans == 10:\n",
    "    print(\"You got it right!\")"
   ]
  },
  {
   "cell_type": "code",
   "execution_count": 1,
   "metadata": {},
   "outputs": [
    {
     "name": "stdout",
     "output_type": "stream",
     "text": [
      "Both statements were true.\n"
     ]
    }
   ],
   "source": [
    "# using the 'and' keyword in an 'if' statement\n",
    "x,y,z = 5,10,5\n",
    "if x<y and x==z:\n",
    "    print(\"Both statements were true.\")"
   ]
  },
  {
   "cell_type": "code",
   "execution_count": 3,
   "metadata": {},
   "outputs": [
    {
     "name": "stdout",
     "output_type": "stream",
     "text": [
      "One or both statements were true.\n"
     ]
    }
   ],
   "source": [
    "# using the 'or' keyword in an 'if' statement\n",
    "x,y,z = 5,10,5\n",
    "if x<y or x!=z:\n",
    "    print(\"One or both statements were true.\")"
   ]
  },
  {
   "cell_type": "code",
   "execution_count": 4,
   "metadata": {},
   "outputs": [
    {
     "name": "stdout",
     "output_type": "stream",
     "text": [
      "Flag is false.\n"
     ]
    }
   ],
   "source": [
    "# using the 'not' keyword in an 'if' statement\n",
    "flag=False\n",
    "if not flag: \n",
    "    print(\"Flag is false.\")"
   ]
  },
  {
   "cell_type": "code",
   "execution_count": 5,
   "metadata": {},
   "outputs": [
    {
     "name": "stdout",
     "output_type": "stream",
     "text": [
      "Baseball contains the character 'b'.\n"
     ]
    }
   ],
   "source": [
    "# using the 'in' keyword in an 'if' statement\n",
    "word = \"Baseball\"\n",
    "if \"b\" in word:\n",
    "    print(\"{} contains the character 'b'.\".format(word))"
   ]
  },
  {
   "cell_type": "code",
   "execution_count": 6,
   "metadata": {},
   "outputs": [
    {
     "name": "stdout",
     "output_type": "stream",
     "text": [
      "Baseball does not contain the character 'x'.\n"
     ]
    }
   ],
   "source": [
    "# using the 'not in' keyword in an 'if' statement\n",
    "word = \"Baseball\"\n",
    "if \"x\" not in word:\n",
    "    print(\"{} does not contain the character 'x'.\".format(word))"
   ]
  },
  {
   "cell_type": "code",
   "execution_count": 3,
   "metadata": {},
   "outputs": [
    {
     "name": "stdout",
     "output_type": "stream",
     "text": [
      "Type something: pest\n",
      "It's there!\n"
     ]
    }
   ],
   "source": [
    "# ask user for input, check to see if what they wrote includes 'es'\n",
    "\n",
    "user_string = input(\"Type something: \")\n",
    "\n",
    "if \"es\" in user_string:\n",
    "    print(\"It's there!\")\n",
    "else:\n",
    "    print(\"Not there :(\")"
   ]
  },
  {
   "cell_type": "code",
   "execution_count": 20,
   "metadata": {},
   "outputs": [
    {
     "name": "stdout",
     "output_type": "stream",
     "text": [
      "Type another thing: buttering\n",
      "It's there!\n"
     ]
    }
   ],
   "source": [
    "# ask the user for input, check to see if what they wrote has an ing at the end\n",
    "\n",
    "user_string = input(\"Type another thing: \")\n",
    "\n",
    "if user_string[-3:] == \"ing\":\n",
    "    print(\"It's there!\")\n",
    "else:\n",
    "    print(\"Not there :(\")"
   ]
  },
  {
   "cell_type": "code",
   "execution_count": 22,
   "metadata": {},
   "outputs": [
    {
     "name": "stdout",
     "output_type": "stream",
     "text": [
      "Please enter a word: poo\n",
      "Please enter another word: pOO\n",
      "Those words are the same. Neat.\n"
     ]
    }
   ],
   "source": [
    "# ask user for two words. check whether both words are the same.\n",
    "\n",
    "user_string1 = input(\"Please enter a word: \")\n",
    "user_string2 = input(\"Please enter another word: \")\n",
    "\n",
    "user_string1 = user_string1.lower()\n",
    "user_string2 = user_string2.lower()\n",
    "\n",
    "if user_string1 == user_string2:\n",
    "    print(\"Those words are the same. Neat.\")\n",
    "else:\n",
    "    print(\"Those words are different.\")"
   ]
  },
  {
   "cell_type": "code",
   "execution_count": 24,
   "metadata": {},
   "outputs": [
    {
     "name": "stdout",
     "output_type": "stream",
     "text": [
      "Please enter a number: 7\n",
      "49\n"
     ]
    }
   ],
   "source": [
    "# ask user for a number. if number is lower than 10, return the number squared.\n",
    "\n",
    "user_number = input(\"Please enter a number: \")\n",
    "\n",
    "user_number = int(user_number)\n",
    "\n",
    "if user_number < 10:\n",
    "    square = user_number**2\n",
    "    print(square)\n",
    "else:\n",
    "    print(\"That number is 10 or higher.\")"
   ]
  },
  {
   "cell_type": "code",
   "execution_count": 25,
   "metadata": {},
   "outputs": [
    {
     "name": "stdout",
     "output_type": "stream",
     "text": [
      "x is less\n"
     ]
    }
   ],
   "source": [
    "# using the elif conditional statement\n",
    "\n",
    "x, y = 5, 10\n",
    "if x>y:\n",
    "    print(\"x is greater\")\n",
    "elif x<y:\n",
    "    print(\"x is less\")"
   ]
  },
  {
   "cell_type": "code",
   "execution_count": 26,
   "metadata": {},
   "outputs": [
    {
     "name": "stdout",
     "output_type": "stream",
     "text": [
      "equal\n"
     ]
    }
   ],
   "source": [
    "# checking more than one elif conditional statement\n",
    "x,y = 5,10\n",
    "if x>y:\n",
    "    print(\"x is greater\")\n",
    "elif (x+10)<y:\n",
    "    print(\"x is less\")\n",
    "elif (x+5) == y:\n",
    "    print(\"equal\")"
   ]
  },
  {
   "cell_type": "code",
   "execution_count": 27,
   "metadata": {},
   "outputs": [
    {
     "name": "stdout",
     "output_type": "stream",
     "text": [
      "x is equal to z\n"
     ]
    }
   ],
   "source": [
    "# writing multiple conditionals within each other - multiple block levels\n",
    "x,y,z = 5,10,5\n",
    "if x>y:\n",
    "    print('greater')\n",
    "elif x<=y:\n",
    "    if x==z:\n",
    "        print('x is equal to z')\n",
    "    elif x != z:\n",
    "        print('x is not equal to z')"
   ]
  },
  {
   "cell_type": "code",
   "execution_count": 30,
   "metadata": {},
   "outputs": [
    {
     "name": "stdout",
     "output_type": "stream",
     "text": [
      "please give a number: 100\n",
      "You entered 100. Neat.\n"
     ]
    }
   ],
   "source": [
    "# get number from user. print whether the number is higher or lower than 100\n",
    "user_number = input('please give a number: ')\n",
    "converted_number = int(user_number)\n",
    "\n",
    "if converted_number == 100:\n",
    "    print(\"You entered 100. Neat.\")\n",
    "elif converted_number < 100:\n",
    "    print(\"Less than 100.\")\n",
    "elif converted_number > 100:\n",
    "    print(\"greater than 100\")"
   ]
  },
  {
   "cell_type": "markdown",
   "metadata": {},
   "source": [
    "# Else Statements"
   ]
  },
  {
   "cell_type": "code",
   "execution_count": 31,
   "metadata": {},
   "outputs": [
    {
     "name": "stdout",
     "output_type": "stream",
     "text": [
      "hello john!\n"
     ]
    }
   ],
   "source": [
    "# using an else statement\n",
    "name = \"john\"\n",
    "if name == 'jacob':\n",
    "    print('hello jacob')\n",
    "else:\n",
    "    print('hello {}!'.format(name))"
   ]
  },
  {
   "cell_type": "code",
   "execution_count": 33,
   "metadata": {},
   "outputs": [
    {
     "name": "stdout",
     "output_type": "stream",
     "text": [
      "name starts with an J\n"
     ]
    }
   ],
   "source": [
    "#writing full conditional statement with if, else, elif\n",
    "name = 'john'\n",
    "if name[0] == 'a':\n",
    "    print(\"name starts with an A\")\n",
    "elif name[0] == 'b':\n",
    "    print(\"name starts with a B\")\n",
    "elif name[0] == 'j':\n",
    "    print(\"name starts with a J\")\n",
    "else:\n",
    "    print('name starts with a {}'.format(name[0]))"
   ]
  },
  {
   "cell_type": "code",
   "execution_count": 41,
   "metadata": {},
   "outputs": [
    {
     "name": "stdout",
     "output_type": "stream",
     "text": [
      "enter a military time2556\n",
      "that's not a time, bunghole\n"
     ]
    }
   ],
   "source": [
    "# user inputs a time in military time (without colon) print the appropriate greeting\n",
    "user_time = input(\"enter a military time\")\n",
    "user_time = int(user_time)\n",
    "\n",
    "if user_time > 2359:\n",
    "    print(\"that's not a time, bunghole\")\n",
    "elif user_time < 1200:\n",
    "    print('good morning')\n",
    "elif user_time >= 1200 and user_time < 1700:\n",
    "    print('good afternoon')\n",
    "elif user_time >= 1700 and user_time <=2399:\n",
    "    print('good evening')"
   ]
  },
  {
   "cell_type": "markdown",
   "metadata": {},
   "source": [
    "# Friday Project: Creating a Calculator"
   ]
  },
  {
   "cell_type": "code",
   "execution_count": 2,
   "metadata": {},
   "outputs": [
    {
     "name": "stdout",
     "output_type": "stream",
     "text": [
      "Would you like to add/subtract/multiply/divide? subTracT\n",
      "You chose subtract.\n"
     ]
    }
   ],
   "source": [
    "# Step 1: ask user for calculation to be performed\n",
    "operation = input(\"Would you like to add/subtract/multiply/divide? \").lower()\n",
    "print(\"You chose {}.\".format(operation))"
   ]
  },
  {
   "cell_type": "code",
   "execution_count": 3,
   "metadata": {},
   "outputs": [
    {
     "name": "stdout",
     "output_type": "stream",
     "text": [
      "You chose subtract\n",
      "Please keep in mind that the order of your numbers matters.\n",
      "What is the first number? 7\n",
      "What is the second number? 12\n",
      "First Number: 7\n",
      "Second Number: 12\n"
     ]
    }
   ],
   "source": [
    "# Step 2: ask for numbers, alert order matters for subtracting and dividing\n",
    "if operation == \"subtract\" or operation == \"divide\":\n",
    "    print(\"You chose {}\".format(operation))\n",
    "    print(\"Please keep in mind that the order of your numbers matters.\")\n",
    "num1 = input(\"What is the first number? \")\n",
    "num2 = input(\"What is the second number? \")\n",
    "print(\"First Number: {}\".format(num1))\n",
    "print(\"Second Number: {}\".format(num2))"
   ]
  },
  {
   "cell_type": "code",
   "execution_count": 4,
   "metadata": {},
   "outputs": [
    {
     "name": "stdout",
     "output_type": "stream",
     "text": [
      "7.0 - 12.0 = -5.0\n"
     ]
    }
   ],
   "source": [
    "# Step 3: setup ty/except for mathematical operation\n",
    "try:\n",
    "    num1, num2 = float(num1), float(num2)\n",
    "    if operation == \"add\":\n",
    "        result = num1 + num2\n",
    "        print(\"{} + {} = {}\".format(num1, num2, result))\n",
    "    elif operation == \"subtract\":\n",
    "        result = num1 - num2\n",
    "        print(\"{} - {} = {}\".format(num1, num2, result))\n",
    "    elif operation == \"multiply\":\n",
    "        result = num1 * num2\n",
    "        print(\"{} * {} = {}\".format(num1, num2, result))\n",
    "    elif operation == \"divide\":\n",
    "        result = num1 / num2\n",
    "        print(\"{} / {} = {}\".format(num1, num2, result))\n",
    "    else:\n",
    "        print(\"Sorry, but {} is not an option.\".format(operation))\n",
    "except:\n",
    "    print(\"Error: Improper numbers used. Please try again.\")\n"
   ]
  },
  {
   "cell_type": "code",
   "execution_count": 7,
   "metadata": {},
   "outputs": [
    {
     "name": "stdout",
     "output_type": "stream",
     "text": [
      "Would you like to add/subtract/multiply/divide? butt\n",
      "What is the first number? 2\n",
      "What is the second number? 4\n",
      "Sorry, but butt is not an option.\n"
     ]
    }
   ],
   "source": [
    "# everything together\n",
    "\n",
    "# Step 1: ask user for calculation to be performed\n",
    "operation = input(\"Would you like to add/subtract/multiply/divide? \").lower()\n",
    "\n",
    "# Step 2: ask for numbers, alert order matters for subtracting and dividing\n",
    "if operation == \"subtract\" or operation == \"divide\":\n",
    "    print(\"You chose {}\".format(operation))\n",
    "    print(\"Please keep in mind that the order of your numbers matters.\")\n",
    "num1 = input(\"What is the first number? \")\n",
    "num2 = input(\"What is the second number? \")\n",
    "\n",
    "# Step 3: setup ty/except for mathematical operation\n",
    "try:\n",
    "    num1, num2 = float(num1), float(num2)\n",
    "    if operation == \"add\":\n",
    "        result = num1 + num2\n",
    "        print(\"{} + {} = {}\".format(num1, num2, result))\n",
    "    elif operation == \"subtract\":\n",
    "        result = num1 - num2\n",
    "        print(\"{} - {} = {}\".format(num1, num2, result))\n",
    "    elif operation == \"multiply\":\n",
    "        result = num1 * num2\n",
    "        print(\"{} * {} = {}\".format(num1, num2, result))\n",
    "    elif operation == \"divide\":\n",
    "        result = num1 / num2\n",
    "        print(\"{} / {} = {}\".format(num1, num2, result))\n",
    "    else:\n",
    "        print(\"Sorry, but {} is not an option.\".format(operation))\n",
    "except:\n",
    "    print(\"Error: Improper numbers used. Please try again.\")"
   ]
  },
  {
   "cell_type": "code",
   "execution_count": null,
   "metadata": {},
   "outputs": [],
   "source": []
  }
 ],
 "metadata": {
  "kernelspec": {
   "display_name": "Python 3",
   "language": "python",
   "name": "python3"
  },
  "language_info": {
   "codemirror_mode": {
    "name": "ipython",
    "version": 3
   },
   "file_extension": ".py",
   "mimetype": "text/x-python",
   "name": "python",
   "nbconvert_exporter": "python",
   "pygments_lexer": "ipython3",
   "version": "3.7.4"
  }
 },
 "nbformat": 4,
 "nbformat_minor": 2
}
