{
 "cells": [
  {
   "cell_type": "markdown",
   "metadata": {},
   "source": [
    "# Creating and Calling Functions"
   ]
  },
  {
   "cell_type": "code",
   "execution_count": 1,
   "metadata": {},
   "outputs": [
    {
     "name": "stdout",
     "output_type": "stream",
     "text": [
      "Name: John Smith\n",
      "Age: 45\n",
      "Name: John Smith\n",
      "Age: 45\n"
     ]
    }
   ],
   "source": [
    "# writing your first function\n",
    "def printInfo():    # defines what the function does when called\n",
    "    print(\"Name: John Smith\")\n",
    "    print(\"Age: 45\")\n",
    "printInfo()    # calls the function\n",
    "printInfo()    # calls the function again"
   ]
  },
  {
   "cell_type": "code",
   "execution_count": 2,
   "metadata": {},
   "outputs": [
    {
     "name": "stdout",
     "output_type": "stream",
     "text": [
      "15\n"
     ]
    }
   ],
   "source": [
    "# performing a calculation in a function\n",
    "def calc():\n",
    "    x,y = 5,10\n",
    "    print(x+y)\n",
    "calc()    # will run the block of code within calc and output 15"
   ]
  },
  {
   "cell_type": "code",
   "execution_count": 3,
   "metadata": {},
   "outputs": [
    {
     "name": "stdout",
     "output_type": "stream",
     "text": [
      "Paul Grote\n"
     ]
    }
   ],
   "source": [
    "# Define a function called myName and have it print out your name when called.\n",
    "def myName():\n",
    "    print(\"Paul Grote\")\n",
    "myName()"
   ]
  },
  {
   "cell_type": "code",
   "execution_count": 4,
   "metadata": {},
   "outputs": [
    {
     "name": "stdout",
     "output_type": "stream",
     "text": [
      "Pepperoni, olives, sausage, cheese, sauce, canadian bacon, pineapple\n",
      "Pepperoni, olives, sausage, cheese, sauce, canadian bacon, pineapple\n",
      "Pepperoni, olives, sausage, cheese, sauce, canadian bacon, pineapple\n"
     ]
    }
   ],
   "source": [
    "# Define a function that prints out all your favorite pizza toppings called pizzaToppings.\n",
    "# Call the function three times.\n",
    "def pizzaToppings():\n",
    "    print('Pepperoni, olives, sausage, cheese, sauce, canadian bacon, pineapple')\n",
    "pizzaToppings()\n",
    "pizzaToppings()\n",
    "pizzaToppings()"
   ]
  },
  {
   "cell_type": "code",
   "execution_count": null,
   "metadata": {},
   "outputs": [],
   "source": []
  }
 ],
 "metadata": {
  "kernelspec": {
   "display_name": "Python 3",
   "language": "python",
   "name": "python3"
  },
  "language_info": {
   "codemirror_mode": {
    "name": "ipython",
    "version": 3
   },
   "file_extension": ".py",
   "mimetype": "text/x-python",
   "name": "python",
   "nbconvert_exporter": "python",
   "pygments_lexer": "ipython3",
   "version": "3.7.4"
  }
 },
 "nbformat": 4,
 "nbformat_minor": 2
}
