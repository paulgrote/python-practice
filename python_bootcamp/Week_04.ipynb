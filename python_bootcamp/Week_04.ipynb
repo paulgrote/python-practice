{
 "cells": [
  {
   "cell_type": "markdown",
   "metadata": {},
   "source": [
    "# Thursday Exercises"
   ]
  },
  {
   "cell_type": "code",
   "execution_count": 17,
   "metadata": {},
   "outputs": [
    {
     "name": "stdout",
     "output_type": "stream",
     "text": [
      "['Amanda', 'Bob', 'Kenny']\n"
     ]
    }
   ],
   "source": [
    "# Remove all duplicates from the list using count() so the output is ['Bob', 'Kenny', 'Amanda']\n",
    "\n",
    "# This code successfully removes the duplicates, but doesn't output the edited list in the specified order.\n",
    "# I don't think it's necessary to output the specified order. I accomplished MVP for this script.\n",
    "names = ['Bob','Kenny','Amanda','Bob','Kenny']\n",
    "for name in names:\n",
    "    if names.count(name) > 1:\n",
    "        names.remove(name)\n",
    "print(names)"
   ]
  },
  {
   "cell_type": "code",
   "execution_count": 22,
   "metadata": {},
   "outputs": [
    {
     "name": "stdout",
     "output_type": "stream",
     "text": [
      "Type a word. Type 'quit' to quit. butter \n",
      "Type a word. Type 'quit' to quit. onion\n",
      "Type a word. Type 'quit' to quit. vegetable\n",
      "Type a word. Type 'quit' to quit. guitar\n",
      "Type a word. Type 'quit' to quit. quitar\n",
      "Type a word. Type 'quit' to quit. quite\n",
      "Type a word. Type 'quit' to quit. quit\n",
      "['butter ', 'onion', 'vegetable', 'guitar', 'quitar', 'quite', 'quit']\n"
     ]
    }
   ],
   "source": [
    "# Use a while loop to continually ask the user to input a word until they type quit.\n",
    "# Once they type a word in, add it to the list.\n",
    "# Once they quit the loop, use a for loop to output all the items within the list.\n",
    "user_word = ''\n",
    "user_words = []\n",
    "while user_word != 'quit':\n",
    "    user_word = input(\"Type a word. Type 'quit' to quit. \")\n",
    "    user_words.append(user_word)\n",
    "print(user_words)"
   ]
  },
  {
   "cell_type": "markdown",
   "metadata": {},
   "source": [
    "# Challenge 1: Pyramids"
   ]
  },
  {
   "cell_type": "code",
   "execution_count": 14,
   "metadata": {},
   "outputs": [
    {
     "name": "stdout",
     "output_type": "stream",
     "text": [
      "Enter a number: 34\n",
      "                                 \n",
      "                                x \n",
      "                               x x \n",
      "                              x x x \n",
      "                             x x x x \n",
      "                            x x x x x \n",
      "                           x x x x x x \n",
      "                          x x x x x x x \n",
      "                         x x x x x x x x \n",
      "                        x x x x x x x x x \n",
      "                       x x x x x x x x x x \n",
      "                      x x x x x x x x x x x \n",
      "                     x x x x x x x x x x x x \n",
      "                    x x x x x x x x x x x x x \n",
      "                   x x x x x x x x x x x x x x \n",
      "                  x x x x x x x x x x x x x x x \n",
      "                 x x x x x x x x x x x x x x x x \n",
      "                x x x x x x x x x x x x x x x x x \n",
      "               x x x x x x x x x x x x x x x x x x \n",
      "              x x x x x x x x x x x x x x x x x x x \n",
      "             x x x x x x x x x x x x x x x x x x x x \n",
      "            x x x x x x x x x x x x x x x x x x x x x \n",
      "           x x x x x x x x x x x x x x x x x x x x x x \n",
      "          x x x x x x x x x x x x x x x x x x x x x x x \n",
      "         x x x x x x x x x x x x x x x x x x x x x x x x \n",
      "        x x x x x x x x x x x x x x x x x x x x x x x x x \n",
      "       x x x x x x x x x x x x x x x x x x x x x x x x x x \n",
      "      x x x x x x x x x x x x x x x x x x x x x x x x x x x \n",
      "     x x x x x x x x x x x x x x x x x x x x x x x x x x x x \n",
      "    x x x x x x x x x x x x x x x x x x x x x x x x x x x x x \n",
      "   x x x x x x x x x x x x x x x x x x x x x x x x x x x x x x \n",
      "  x x x x x x x x x x x x x x x x x x x x x x x x x x x x x x x \n",
      " x x x x x x x x x x x x x x x x x x x x x x x x x x x x x x x x \n",
      "x x x x x x x x x x x x x x x x x x x x x x x x x x x x x x x x x \n"
     ]
    }
   ],
   "source": [
    "# Use a for loop to build a pyramid of x's. \n",
    "# It should be modular so that if you loop 5 or 50, it still creates evenly spaced rows.\n",
    "# Hint: Multiply the string 'x' by the row.\n",
    "\n",
    "number = int(input(\"Enter a number: \"))\n",
    "countdown = number\n",
    "\n",
    "for i in range(0,number):\n",
    "    countdown -= 1\n",
    "    air = int(i * 2)\n",
    "    print(\"{}{}\".format(\" \" * countdown,\"x \" * i))"
   ]
  },
  {
   "cell_type": "markdown",
   "metadata": {},
   "source": [
    "# Challenge 2: Output Names"
   ]
  },
  {
   "cell_type": "code",
   "execution_count": 16,
   "metadata": {},
   "outputs": [
    {
     "name": "stdout",
     "output_type": "stream",
     "text": [
      "Butter\n",
      "Onion\n",
      "Xylophone\n",
      "Torpedo\n"
     ]
    }
   ],
   "source": [
    "# Write a loop that will iterate over a list of items an only output items which have letters inside of a string.\n",
    "# For example, in the following list, only \"John\" and \"Amanda\" should be output:\n",
    "# names = ['John', ' ', 'Amanda', 5]\n",
    "\n",
    "items = ['Butter', True, None, 'Onion', 'Xylophone', 5, 4.2098, 'Torpedo']\n",
    "\n",
    "for item in items:\n",
    "    if type(item) == str:\n",
    "        print(item)"
   ]
  },
  {
   "cell_type": "markdown",
   "metadata": {},
   "source": [
    "# Challenge 3: Convert Celsius"
   ]
  },
  {
   "cell_type": "code",
   "execution_count": 19,
   "metadata": {},
   "outputs": [
    {
     "name": "stdout",
     "output_type": "stream",
     "text": [
      "[89.6, 53.6, 111.2, 84.2]\n"
     ]
    }
   ],
   "source": [
    "# Given a list of temperatures that are in Celsius,\n",
    "# write a loop that iterates over the list and outputs the temperature converted into Fahrenheit.\n",
    "# Hint: the conversion is F = (9/5)*C+32\n",
    "\n",
    "celsius_temps = [32,12,44,29]\n",
    "fahrenheit_temps = []\n",
    "\n",
    "for C in celsius_temps:\n",
    "    F = (9/5)*C+32\n",
    "    fahrenheit_temps.append(F)\n",
    "\n",
    "print(fahrenheit_temps)"
   ]
  },
  {
   "cell_type": "code",
   "execution_count": null,
   "metadata": {},
   "outputs": [],
   "source": []
  }
 ],
 "metadata": {
  "kernelspec": {
   "display_name": "Python 3",
   "language": "python",
   "name": "python3"
  },
  "language_info": {
   "codemirror_mode": {
    "name": "ipython",
    "version": 3
   },
   "file_extension": ".py",
   "mimetype": "text/x-python",
   "name": "python",
   "nbconvert_exporter": "python",
   "pygments_lexer": "ipython3",
   "version": "3.7.4"
  }
 },
 "nbformat": 4,
 "nbformat_minor": 2
}
