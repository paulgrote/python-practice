{
 "cells": [
  {
   "cell_type": "markdown",
   "metadata": {},
   "source": [
    "# Dictionaries"
   ]
  },
  {
   "cell_type": "code",
   "execution_count": 1,
   "metadata": {},
   "outputs": [
    {
     "name": "stdout",
     "output_type": "stream",
     "text": [
      "{'name': 'Morty', 'age': 26}\n"
     ]
    }
   ],
   "source": [
    "# declaring a dictionary variable\n",
    "empty = {}  # empty dictionary\n",
    "customer = {\n",
    "    \"name\":\"Morty\",\n",
    "    \"age\":26\n",
    "}           # dictionary with two key/value pairs\n",
    "print(customer)"
   ]
  },
  {
   "cell_type": "code",
   "execution_count": 2,
   "metadata": {},
   "outputs": [
    {
     "name": "stdout",
     "output_type": "stream",
     "text": [
      "John\n"
     ]
    }
   ],
   "source": [
    "# accessing dictionary information through keys\n",
    "person = {\"name\":\"John\"}\n",
    "print(person[\"name\"])"
   ]
  },
  {
   "cell_type": "code",
   "execution_count": 3,
   "metadata": {},
   "outputs": [
    {
     "name": "stdout",
     "output_type": "stream",
     "text": [
      "John\n",
      "Age is not available.\n"
     ]
    }
   ],
   "source": [
    "# using the get method to access dictionary information\n",
    "person = {\"name\":\"John\"}\n",
    "print(person.get(\"name\"))    #retrieves value of name as before\n",
    "print(person.get(\"age\",\"Age is not available.\"))    # get is a secure way to retrieve information"
   ]
  },
  {
   "cell_type": "code",
   "execution_count": 4,
   "metadata": {},
   "outputs": [
    {
     "name": "stdout",
     "output_type": "stream",
     "text": [
      "baseball\n"
     ]
    }
   ],
   "source": [
    "# storing a list within a dictionary and accessing it\n",
    "data = {'sports':['baseball', 'football', 'hockey', 'soccer']}\n",
    "print(data['sports'][0]) # first access the key, then the index"
   ]
  },
  {
   "cell_type": "code",
   "execution_count": 5,
   "metadata": {},
   "outputs": [
    {
     "ename": "ValueError",
     "evalue": "dictionary update sequence element #0 has length 8; 2 is required",
     "output_type": "error",
     "traceback": [
      "\u001b[0;31m---------------------------------------------------------------------------\u001b[0m",
      "\u001b[0;31mValueError\u001b[0m                                Traceback (most recent call last)",
      "\u001b[0;32m<ipython-input-5-40a2654f6347>\u001b[0m in \u001b[0;36m<module>\u001b[0;34m\u001b[0m\n\u001b[1;32m      1\u001b[0m \u001b[0;31m# improperly storing a list within a dictionary\u001b[0m\u001b[0;34m\u001b[0m\u001b[0;34m\u001b[0m\u001b[0;34m\u001b[0m\u001b[0m\n\u001b[1;32m      2\u001b[0m \u001b[0msports\u001b[0m \u001b[0;34m=\u001b[0m \u001b[0;34m[\u001b[0m\u001b[0;34m'baseball'\u001b[0m\u001b[0;34m,\u001b[0m \u001b[0;34m'football'\u001b[0m\u001b[0;34m,\u001b[0m \u001b[0;34m'hockey'\u001b[0m\u001b[0;34m,\u001b[0m \u001b[0;34m'soccer'\u001b[0m\u001b[0;34m]\u001b[0m\u001b[0;34m\u001b[0m\u001b[0;34m\u001b[0m\u001b[0m\n\u001b[0;32m----> 3\u001b[0;31m \u001b[0msports_dict\u001b[0m \u001b[0;34m=\u001b[0m \u001b[0mdict\u001b[0m\u001b[0;34m(\u001b[0m\u001b[0msports\u001b[0m\u001b[0;34m)\u001b[0m \u001b[0;31m# will produce error. no key\u001b[0m\u001b[0;34m\u001b[0m\u001b[0;34m\u001b[0m\u001b[0m\n\u001b[0m",
      "\u001b[0;31mValueError\u001b[0m: dictionary update sequence element #0 has length 8; 2 is required"
     ]
    }
   ],
   "source": [
    "# improperly storing a list within a dictionary\n",
    "sports = ['baseball', 'football', 'hockey', 'soccer']\n",
    "sports_dict = dict(sports) # will produce error. no key"
   ]
  },
  {
   "cell_type": "code",
   "execution_count": 7,
   "metadata": {},
   "outputs": [
    {
     "name": "stdout",
     "output_type": "stream",
     "text": [
      "{'sports': ['baseball', 'football', 'hockey', 'soccer']}\n"
     ]
    }
   ],
   "source": [
    "# correctly storing a list within a dictionary\n",
    "sports = ['baseball', 'football', 'hockey', 'soccer']\n",
    "sports_dict = dict({\"sports\": sports}) # adding key\n",
    "print(sports_dict)"
   ]
  },
  {
   "cell_type": "code",
   "execution_count": 8,
   "metadata": {},
   "outputs": [
    {
     "name": "stdout",
     "output_type": "stream",
     "text": [
      "{'name': 'Kirsten'}\n",
      "Kirsten\n"
     ]
    }
   ],
   "source": [
    "# storing a dictionary within a list and accessing it\n",
    "data = [\"John\", \"Dennis\", {\"name\":\"Kirsten\"}]\n",
    "print(data[2]) # the dictionary is in index 2\n",
    "print(data[2][\"name\"]) # first access the index, then access the key"
   ]
  },
  {
   "cell_type": "code",
   "execution_count": 9,
   "metadata": {},
   "outputs": [
    {
     "name": "stdout",
     "output_type": "stream",
     "text": [
      "{'2018': 108, '2017': 93}\n",
      "108\n"
     ]
    }
   ],
   "source": [
    "# storing a dictionary within a dictionary and accessing it\n",
    "data = {\n",
    "    \"team\":\"Boston Red Sox\",\n",
    "    \"wins\":{\"2018\":108, \"2017\":93}\n",
    "}\n",
    "print(data[\"wins\"]) # outputs the dictionary within the wins key\n",
    "print(data[\"wins\"][\"2018\"]) # first access the wins key, then the next key"
   ]
  },
  {
   "cell_type": "markdown",
   "metadata": {},
   "source": [
    "# Monday Exercises"
   ]
  },
  {
   "cell_type": "code",
   "execution_count": 10,
   "metadata": {},
   "outputs": [
    {
     "name": "stdout",
     "output_type": "stream",
     "text": [
      "What is your name? Paul\n",
      "What is your age? 36\n",
      "{'name': 'Paul', 'age': '36'}\n"
     ]
    }
   ],
   "source": [
    "# ask the user for their name and age, then create a dictionary with those key-value pairs. output the dictionary\n",
    "name = input(\"What is your name? \")\n",
    "age = input(\"What is your age? \")\n",
    "user_data = dict({\"name\":name,\"age\":age})\n",
    "print(user_data)"
   ]
  },
  {
   "cell_type": "code",
   "execution_count": 11,
   "metadata": {},
   "outputs": [
    {
     "name": "stdout",
     "output_type": "stream",
     "text": [
      "cheese\n",
      "sausage\n",
      "peppers\n"
     ]
    }
   ],
   "source": [
    "# output all the ingredients from the following list within the \"ingredients\" key using a for loop.\n",
    "pizza = {'ingredients':['cheese', 'sausage', 'peppers']}\n",
    "\n",
    "for ingredient in pizza['ingredients']:\n",
    "    print(ingredient)"
   ]
  },
  {
   "cell_type": "markdown",
   "metadata": {},
   "source": [
    "# Working with Dictionaries"
   ]
  },
  {
   "cell_type": "code",
   "execution_count": 1,
   "metadata": {},
   "outputs": [
    {
     "name": "stdout",
     "output_type": "stream",
     "text": [
      "Year: 2018 \t Color: Blue\n"
     ]
    }
   ],
   "source": [
    "# adding new key/value pairs to a dictionary\n",
    "car = {'year':2018}\n",
    "car['color'] = 'Blue'\n",
    "print(\"Year: {} \\t Color: {}\".format(car['year'], car['color']))"
   ]
  },
  {
   "cell_type": "code",
   "execution_count": 2,
   "metadata": {},
   "outputs": [
    {
     "name": "stdout",
     "output_type": "stream",
     "text": [
      "Year: 2018 \t Color: Red\n"
     ]
    }
   ],
   "source": [
    "# updating a value for a key/value pair that already exists\n",
    "car = {'year':2018, 'color':'Blue'}\n",
    "car['color'] = 'Red'\n",
    "print(\"Year: {} \\t Color: {}\".format(car['year'], car['color']))"
   ]
  },
  {
   "cell_type": "code",
   "execution_count": 3,
   "metadata": {},
   "outputs": [
    {
     "name": "stdout",
     "output_type": "stream",
     "text": [
      "{}\n"
     ]
    }
   ],
   "source": [
    "# deleting a key/value pair from a dictionary\n",
    "car = {'year':2018}\n",
    "try:\n",
    "    del car['year']\n",
    "    print(car)\n",
    "except:\n",
    "    print('That key does not exist.')"
   ]
  },
  {
   "cell_type": "code",
   "execution_count": 4,
   "metadata": {},
   "outputs": [
    {
     "name": "stdout",
     "output_type": "stream",
     "text": [
      "name\n",
      "John\n",
      "age\n",
      "26\n"
     ]
    }
   ],
   "source": [
    "# looping over a dictionary via the keys\n",
    "person = {'name':'John', 'age':26}\n",
    "for key in person.keys():\n",
    "    print(key)\n",
    "    print(person[key]) # will output the value at the current key"
   ]
  },
  {
   "cell_type": "code",
   "execution_count": 5,
   "metadata": {},
   "outputs": [
    {
     "name": "stdout",
     "output_type": "stream",
     "text": [
      "John\n",
      "26\n"
     ]
    }
   ],
   "source": [
    "# looping over a dictionary using the values\n",
    "person = {'name':'John', 'age':26}\n",
    "for value in person.values():\n",
    "    print(value)"
   ]
  },
  {
   "cell_type": "code",
   "execution_count": 6,
   "metadata": {},
   "outputs": [
    {
     "name": "stdout",
     "output_type": "stream",
     "text": [
      "name: John\n",
      "age: 26\n"
     ]
    }
   ],
   "source": [
    "# looping over a dictionary via the key/value pair\n",
    "person = {'name':'John', 'age':26}\n",
    "for key, value in person.items():\n",
    "    print(\"{}: {}\".format(key,value))"
   ]
  },
  {
   "cell_type": "markdown",
   "metadata": {},
   "source": [
    "# Tuesday Exercises"
   ]
  },
  {
   "cell_type": "code",
   "execution_count": 7,
   "metadata": {},
   "outputs": [
    {
     "name": "stdout",
     "output_type": "stream",
     "text": [
      "GIVE ME YOUR NAME.parl\n",
      "NOW YOUR ADDRESS.white house\n",
      "NOW YOUR PHONE NUMBER.123345098\n",
      "Your name is parl.\n",
      "Your address is white house.\n",
      "Your phone number is 123345098. The end.\n"
     ]
    }
   ],
   "source": [
    "# declare an empty dictionary.\n",
    "# ask the user for their name, address, and number. \n",
    "# add that information to the dictionary and show it to the user. \n",
    "user_information = {}\n",
    "user_information['name'] = input(\"GIVE ME YOUR NAME.\")\n",
    "user_information['address'] = input(\"NOW YOUR ADDRESS.\")\n",
    "user_information['number'] = input(\"NOW YOUR PHONE NUMBER.\")\n",
    "print(\"Your name is {}.\".format(user_information['name']))\n",
    "print(\"Your address is {}.\".format(user_information['address']))\n",
    "print(\"Your phone number is {}. The end.\".format(user_information['number']))"
   ]
  },
  {
   "cell_type": "markdown",
   "metadata": {},
   "source": [
    "# Tuples, Sets, Frozensets"
   ]
  },
  {
   "cell_type": "code",
   "execution_count": 1,
   "metadata": {},
   "outputs": [
    {
     "name": "stdout",
     "output_type": "stream",
     "text": [
      "<class 'tuple'> <class 'tuple'>\n"
     ]
    },
    {
     "ename": "TypeError",
     "evalue": "'tuple' object does not support item assignment",
     "output_type": "error",
     "traceback": [
      "\u001b[0;31m---------------------------------------------------------------------------\u001b[0m",
      "\u001b[0;31mTypeError\u001b[0m                                 Traceback (most recent call last)",
      "\u001b[0;32m<ipython-input-1-936e4e2fa41f>\u001b[0m in \u001b[0;36m<module>\u001b[0;34m\u001b[0m\n\u001b[1;32m      3\u001b[0m \u001b[0mt2\u001b[0m \u001b[0;34m=\u001b[0m \u001b[0;32mTrue\u001b[0m\u001b[0;34m,\u001b[0m \u001b[0;36m1\u001b[0m  \u001b[0;31m# without parenthesis\u001b[0m\u001b[0;34m\u001b[0m\u001b[0;34m\u001b[0m\u001b[0m\n\u001b[1;32m      4\u001b[0m \u001b[0mprint\u001b[0m\u001b[0;34m(\u001b[0m\u001b[0mtype\u001b[0m\u001b[0;34m(\u001b[0m\u001b[0mt1\u001b[0m\u001b[0;34m)\u001b[0m\u001b[0;34m,\u001b[0m \u001b[0mtype\u001b[0m\u001b[0;34m(\u001b[0m\u001b[0mt2\u001b[0m\u001b[0;34m)\u001b[0m\u001b[0;34m)\u001b[0m \u001b[0;31m# both are tuples\u001b[0m\u001b[0;34m\u001b[0m\u001b[0;34m\u001b[0m\u001b[0m\n\u001b[0;32m----> 5\u001b[0;31m \u001b[0mt1\u001b[0m\u001b[0;34m[\u001b[0m\u001b[0;36m0\u001b[0m\u001b[0;34m]\u001b[0m \u001b[0;34m=\u001b[0m \u001b[0;36m1\u001b[0m \u001b[0;31m# will crash. tuples are immutable once declared\u001b[0m\u001b[0;34m\u001b[0m\u001b[0;34m\u001b[0m\u001b[0m\n\u001b[0m",
      "\u001b[0;31mTypeError\u001b[0m: 'tuple' object does not support item assignment"
     ]
    }
   ],
   "source": [
    "# declaring a tuple\n",
    "t1 = ('hello', 2, 'hello') # with parenthesis\n",
    "t2 = True, 1  # without parenthesis\n",
    "print(type(t1), type(t2)) # both are tuples\n",
    "t1[0] = 1 # will crash. tuples are immutable once declared"
   ]
  },
  {
   "cell_type": "code",
   "execution_count": 2,
   "metadata": {},
   "outputs": [
    {
     "name": "stdout",
     "output_type": "stream",
     "text": [
      "<class 'set'> <class 'set'>\n",
      "{2, 3, 5}\n"
     ]
    }
   ],
   "source": [
    "# declaring a set\n",
    "s1 = set([1,2,3,1]) # uses the set keyword and square brackets\n",
    "s2 = {4,4,5} # uses curly brackets, like dictionary\n",
    "print(type(s1), type(s2))\n",
    "s1.add(5) # using the add method to add new items to the set\n",
    "s1.remove(1) # using the remove method to get rid of the value 1\n",
    "print(s1) # notice when printed it removed the second 1 at the end"
   ]
  },
  {
   "cell_type": "code",
   "execution_count": 3,
   "metadata": {},
   "outputs": [
    {
     "name": "stdout",
     "output_type": "stream",
     "text": [
      "<class 'frozenset'>\n"
     ]
    }
   ],
   "source": [
    "# declaring a frozenset\n",
    "fset = frozenset([1,2,3,4])\n",
    "print(type(fset))"
   ]
  },
  {
   "cell_type": "code",
   "execution_count": 6,
   "metadata": {},
   "outputs": [
    {
     "name": "stdout",
     "output_type": "stream",
     "text": [
      "Enter a bank account number, or enter quit. 908435\n",
      "Enter a bank account number, or enter quit. 23469876\n",
      "Enter a bank account number, or enter quit. 56975497\n",
      "Enter a bank account number, or enter quit. 234659\n",
      "Enter a bank account number, or enter quit. 5067894\n",
      "Enter a bank account number, or enter quit. 234768\n",
      "Enter a bank account number, or enter quit. 4697830\n",
      "Enter a bank account number, or enter quit. 2934750\n",
      "Enter a bank account number, or enter quit. quit\n",
      "['908435', '23469876', '56975497', '234659', '5067894', '234768', '4697830', '2934750']\n",
      "frozenset({'4697830', '56975497', '5067894', '908435', '234768', '234659', '2934750', '23469876'})\n"
     ]
    }
   ],
   "source": [
    "# ask the user to input as many bank account numbers as they'd like, and store them within a list\n",
    "account_numbers = []\n",
    "user_input = ''\n",
    "\n",
    "while user_input != 'quit':\n",
    "    user_input = input(\"Enter a bank account number, or enter quit. \")\n",
    "    if user_input != 'quit':\n",
    "        account_numbers.append(user_input)\n",
    "\n",
    "print(account_numbers)\n",
    "# once the user is done entering information, convert the list to a frozenset and print it out\n",
    "account_numbers_frozenset = frozenset(account_numbers)\n",
    "print(account_numbers_frozenset)"
   ]
  },
  {
   "cell_type": "code",
   "execution_count": 7,
   "metadata": {},
   "outputs": [
    {
     "name": "stdout",
     "output_type": "stream",
     "text": [
      "{10, 4, 7}\n"
     ]
    }
   ],
   "source": [
    "# convert the following list into a set of unique values\n",
    "# print it out after to check there are no duplicates\n",
    "\n",
    "nums = [3,4,3,7,10]\n",
    "\n",
    "set1 = set(nums)\n",
    "set1.remove(3)\n",
    "print(set1)"
   ]
  },
  {
   "cell_type": "markdown",
   "metadata": {},
   "source": [
    "# Reading & Writing Files"
   ]
  },
  {
   "cell_type": "code",
   "execution_count": 1,
   "metadata": {},
   "outputs": [
    {
     "name": "stdout",
     "output_type": "stream",
     "text": [
      "this is a test\n"
     ]
    }
   ],
   "source": [
    "# opening/creating and writing to a text file\n",
    "f = open('test.txt', 'w+')  # open file in writing and reading mode\n",
    "f.write('this is a test')\n",
    "f.close()\n",
    "\n",
    "# reading from a text file\n",
    "f = open('test.txt', 'r')\n",
    "data = f.read()\n",
    "f.close()\n",
    "print(data)"
   ]
  },
  {
   "cell_type": "code",
   "execution_count": 2,
   "metadata": {},
   "outputs": [],
   "source": [
    "# opening/creating and writing to a csv file\n",
    "import csv\n",
    "with open('test.csv', mode='w', newline='') as f:\n",
    "    writer = csv.writer(f, delimiter=',')\n",
    "    writer.writerow(['Name','City'])\n",
    "    writer.writerow(['Craig Lou', 'Taiwan'])"
   ]
  },
  {
   "cell_type": "code",
   "execution_count": 3,
   "metadata": {},
   "outputs": [
    {
     "name": "stdout",
     "output_type": "stream",
     "text": [
      "['Name', 'City']\n",
      "['Craig Lou', 'Taiwan']\n"
     ]
    }
   ],
   "source": [
    "# reading from csv files\n",
    "with open('test.csv', mode='r') as f:\n",
    "    reader = csv.reader(f, delimiter=',')\n",
    "    for row in reader:\n",
    "        print(row)"
   ]
  },
  {
   "cell_type": "code",
   "execution_count": 4,
   "metadata": {},
   "outputs": [
    {
     "name": "stdout",
     "output_type": "stream",
     "text": [
      "What is your favorite number????2934875\n"
     ]
    }
   ],
   "source": [
    "# ask a user for their favorite number and save it to a text file\n",
    "favorite_number = input(\"What is your favorite number????\")\n",
    "\n",
    "with open('favorite_number.txt', mode='w') as f:\n",
    "    f.write(favorite_number)"
   ]
  },
  {
   "cell_type": "code",
   "execution_count": 13,
   "metadata": {},
   "outputs": [
    {
     "name": "stdout",
     "output_type": "stream",
     "text": [
      "4\n",
      "dict_keys(['name', 'language'])\n"
     ]
    }
   ],
   "source": [
    "# using the following dictionary, \n",
    "# save the information to a csv file with the keys as the headers and the values as the rows of data\n",
    "data = {\n",
    "    'name':['Dave','Dennis','Peter','Jess'],\n",
    "    'language':['Python','C','Java','Python']\n",
    "}\n",
    "\n",
    "print(len(data['name']))\n",
    "print(data.keys())\n",
    "with open('data.csv', mode='w') as f:\n",
    "    writer = csv.writer(f, delimiter=',')\n",
    "    \n",
    "    writer.writerow(data.keys())\n",
    "    \n",
    "    for i in range(0,len(data['name'])):\n",
    "        rows = []\n",
    "        rows.append(data['name'][i])\n",
    "        rows.append(data['language'][i])\n",
    "        writer.writerow(rows)"
   ]
  },
  {
   "cell_type": "code",
   "execution_count": null,
   "metadata": {},
   "outputs": [],
   "source": []
  }
 ],
 "metadata": {
  "kernelspec": {
   "display_name": "Python 3",
   "language": "python",
   "name": "python3"
  },
  "language_info": {
   "codemirror_mode": {
    "name": "ipython",
    "version": 3
   },
   "file_extension": ".py",
   "mimetype": "text/x-python",
   "name": "python",
   "nbconvert_exporter": "python",
   "pygments_lexer": "ipython3",
   "version": "3.7.4"
  }
 },
 "nbformat": 4,
 "nbformat_minor": 2
}
